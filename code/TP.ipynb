{
 "cells": [
  {
   "cell_type": "markdown",
   "id": "adf16903",
   "metadata": {},
   "source": [
    "# Data Capture"
   ]
  },
  {
   "cell_type": "code",
   "execution_count": 8,
   "id": "04fa1d66",
   "metadata": {},
   "outputs": [
    {
     "name": "stdout",
     "output_type": "stream",
     "text": [
      "['CNN', 'ST_NAME', 'the_geom', 'ST_TYPE', 'CNNTEXT']\n",
      "['23730000', 'UTAH', 'POINT (-122.40545417189192 37.75433723137436)', 'ST', '23730000']\n",
      "['22141000', 'JOOST', 'POINT (-122.43974776014164 37.73236806396732)', 'AVE', '22141000']\n",
      "['27966000', 'JOHN F KENNEDY', 'POINT (-122.5109259470119 37.77043567583329)', 'DR', '27966000']\n",
      "['21349000', 'SAN JOSE', 'POINT (-122.42266944527441 37.74394224109009)', 'AVE', '21349000']\n",
      "['24388000', 'MISSION', 'POINT (-122.41861821634723 37.77305345411757)', 'ST', '24388000']\n",
      "['50222000', 'TILLMAN', 'POINT (-122.40570976315199 37.78918186206256)', 'PL', '50222000']\n",
      "['27413000', '24TH', 'POINT (-122.48222116265117 37.759595723492176)', 'AVE', '27413000']\n",
      "['25125000', 'SALMON', 'POINT (-122.41254065701172 37.79618740092784)', 'ST', '25125000']\n",
      "['21264000', 'BROOK', 'POINT (-122.4230899070404 37.74064188615599)', 'ST', '21264000']\n"
     ]
    }
   ],
   "source": [
    "with open(\"/home/z3r0/Code/Python/Algorithmic_Complexity/TP/street_intersections.csv\") as f:\n",
    "    data = f.readlines()\n",
    "    c = 0\n",
    "    for line in data:\n",
    "        c +=1\n",
    "        if c > 10:\n",
    "            break\n",
    "        new_line = line.strip().split(sep=',')\n",
    "        print(new_line)"
   ]
  },
  {
   "cell_type": "code",
   "execution_count": 41,
   "id": "abbb032e",
   "metadata": {},
   "outputs": [],
   "source": [
    "with open(\"/home/z3r0/Code/Python/Algorithmic_Complexity/TP/street_intersections.csv\") as f:\n",
    "    data = f.readlines()[1:]\n",
    "    streets = dict()\n",
    "    intercepts = dict()\n",
    "    c = 0\n",
    "    for line in data:\n",
    "        if c > 1145:\n",
    "            break\n",
    "        c +=1\n",
    "        street, point = line.strip().split(sep=',')[1:3]\n",
    "        lat, lon = point[7:-2].split()\n",
    "        intercept = (float(lat), float(lon))\n",
    "        if street in streets.keys():\n",
    "            streets[street].append(intercept)\n",
    "        else:\n",
    "            streets[street] = [intercept]\n",
    "        if intercept in intercepts.keys():\n",
    "            intercepts[intercept].append(street)\n",
    "        else:\n",
    "            intercepts[intercept] = [street]"
   ]
  },
  {
   "cell_type": "code",
   "execution_count": 100,
   "id": "87ca0d57",
   "metadata": {},
   "outputs": [],
   "source": [
    "with open(\"/home/z3r0/Code/Python/Algorithmic_Complexity/TP/street_intersections.csv\") as f:\n",
    "    data = f.readlines()[1:]\n",
    "    streets = dict()\n",
    "    intercepts = dict()\n",
    "    nodes = dict()\n",
    "    c = 0\n",
    "    for line in data:\n",
    "        street, point = line.strip().split(sep=',')[1:3]\n",
    "        lat, lon = point[7:-2].split()\n",
    "        intercept = (float(lat), float(lon))\n",
    "        if street in streets.keys():\n",
    "            streets[street].append(intercept)\n",
    "        else:\n",
    "            streets[street] = [intercept]\n",
    "        if intercept in intercepts.keys():\n",
    "            intercepts[intercept].append(street)\n",
    "        else:\n",
    "            intercepts[intercept] = [street]\n",
    "            nodes[intercept] = c\n",
    "            c += 1"
   ]
  },
  {
   "cell_type": "markdown",
   "id": "4d140670",
   "metadata": {},
   "source": [
    "# Final"
   ]
  },
  {
   "cell_type": "code",
   "execution_count": 8,
   "id": "244fe178",
   "metadata": {},
   "outputs": [],
   "source": [
    "with open(\"/home/z3r0/Code/Python/Algorithmic_Complexity/TP/street_intersections.csv\") as f:\n",
    "    data = f.readlines()[1:]\n",
    "    intercepts = dict()\n",
    "    streets = dict()\n",
    "    nodes = dict()\n",
    "    nodeToIntercept = dict()\n",
    "    c = 0\n",
    "    for line in data:\n",
    "        street, point = line.strip().split(sep=',')[1:3]\n",
    "        lat, lon = point[7:-2].split()\n",
    "        intercept = (float(lat), float(lon))\n",
    "        if street in intercepts.keys():\n",
    "            intercepts[street].append(intercept)\n",
    "        else:\n",
    "            intercepts[street] = [intercept]\n",
    "        if intercept in streets.keys():\n",
    "            streets[intercept].append(street)\n",
    "        else:\n",
    "            streets[intercept] = [street]\n",
    "            nodes[intercept] = c\n",
    "            nodeToIntercept[c] = intercept\n",
    "            c += 1"
   ]
  },
  {
   "cell_type": "code",
   "execution_count": 9,
   "id": "c3eea7ea",
   "metadata": {},
   "outputs": [],
   "source": [
    "def createGraph(streets, intercepts, nodes):\n",
    "    G = [[] for i in range(len(streets.keys()))]\n",
    "    def calculateDistance(p1, p2):\n",
    "        return sum((map(lambda c1, c2: abs(c1 - c2), intercept, point)))\n",
    "    for intercept in streets.keys():\n",
    "        for street in streets[intercept]:\n",
    "            distance = []\n",
    "            for point in intercepts[street]:\n",
    "                if point != intercept:\n",
    "                    # print(calculateDistance(intercept, point))\n",
    "                    distance.append([nodes[point], calculateDistance(intercept, point)])\n",
    "            # print(distance)\n",
    "            distance.sort(key=lambda ls: ls[1])\n",
    "            if len(distance) > 1:\n",
    "                neighbours = distance[0:2]\n",
    "                if len(neighbours) > 1 and calculateDistance(neighbours[0][1], neighbours[1][1]) > neighbours[0][1]:\n",
    "                    neighbours.pop()\n",
    "                G[nodes[intercept]].extend([neighbours[x][0] for x in range(len(neighbours))])\n",
    "            elif len(distance) > 0:\n",
    "                G[nodes[intercept]].append(distance[0][0])\n",
    "    \n",
    "    return G"
   ]
  },
  {
   "cell_type": "code",
   "execution_count": 10,
   "id": "4422c125",
   "metadata": {},
   "outputs": [
    {
     "data": {
      "text/plain": [
       "[[5321, 2454],\n",
       " [1008, 1357],\n",
       " [3200, 4320],\n",
       " [5578, 2101],\n",
       " [1085, 1828, 7151, 1828],\n",
       " [7551],\n",
       " [4830, 3731],\n",
       " [3659, 2939],\n",
       " [1685, 7096, 8285],\n",
       " [3790, 847]]"
      ]
     },
     "execution_count": 10,
     "metadata": {},
     "output_type": "execute_result"
    }
   ],
   "source": [
    "G_al = createGraph(streets, intercepts, nodes)\n",
    "G_al[0:10]"
   ]
  },
  {
   "cell_type": "code",
   "execution_count": 12,
   "id": "2e9e39f4",
   "metadata": {},
   "outputs": [],
   "source": [
    "def commonStreet(ls1, ls2):\n",
    "    for street in ls1:\n",
    "        if street in ls2:\n",
    "            return True\n",
    "    return False\n",
    "assert commonStreet(streets[nodeToIntercept[G_al[0][0]]], streets[nodeToIntercept[0]]) and commonStreet(streets[nodeToIntercept[G_al[0][1]]], streets[nodeToIntercept[0]])"
   ]
  },
  {
   "cell_type": "code",
   "execution_count": 15,
   "id": "f29c9c1e",
   "metadata": {},
   "outputs": [],
   "source": [
    "f = open(\"graph.al\", \"w\")\n",
    "c = 0\n",
    "for line in G_al:\n",
    "    f.write(str(c)+' ')\n",
    "    if len(line) > 0:\n",
    "        for x in line:\n",
    "            f.write(str(x)+' ')\n",
    "    else:\n",
    "        f.write('-')\n",
    "    f.write('\\n')\n",
    "    c += 1"
   ]
  }
 ],
 "metadata": {
  "kernelspec": {
   "display_name": "Python 3 (ipykernel)",
   "language": "python",
   "name": "python3"
  },
  "language_info": {
   "codemirror_mode": {
    "name": "ipython",
    "version": 3
   },
   "file_extension": ".py",
   "mimetype": "text/x-python",
   "name": "python",
   "nbconvert_exporter": "python",
   "pygments_lexer": "ipython3",
   "version": "3.9.7"
  }
 },
 "nbformat": 4,
 "nbformat_minor": 5
}
