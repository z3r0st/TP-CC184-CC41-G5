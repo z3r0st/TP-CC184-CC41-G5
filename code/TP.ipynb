{
 "cells": [
  {
   "cell_type": "markdown",
   "id": "4d140670",
   "metadata": {},
   "source": [
    "# Final"
   ]
  },
  {
   "cell_type": "code",
   "execution_count": 8,
   "id": "244fe178",
   "metadata": {},
   "outputs": [],
   "source": [
    "with open(\"/home/z3r0/Code/Python/Algorithmic_Complexity/TP/street_intersections.csv\") as f:\n",
    "    data = f.readlines()[1:]\n",
    "    intercepts = dict()\n",
    "    streets = dict()\n",
    "    nodes = dict()\n",
    "    nodeToIntercept = dict()\n",
    "    c = 0\n",
    "    for line in data:\n",
    "        street, point = line.strip().split(sep=',')[1:3]\n",
    "        lat, lon = point[7:-2].split()\n",
    "        intercept = (float(lat), float(lon))\n",
    "        if street in intercepts.keys():\n",
    "            intercepts[street].append(intercept)\n",
    "        else:\n",
    "            intercepts[street] = [intercept]\n",
    "        if intercept in streets.keys():\n",
    "            streets[intercept].append(street)\n",
    "        else:\n",
    "            streets[intercept] = [street]\n",
    "            nodes[intercept] = c\n",
    "            nodeToIntercept[c] = intercept\n",
    "            c += 1"
   ]
  },
  {
   "cell_type": "code",
   "execution_count": 9,
   "id": "c3eea7ea",
   "metadata": {},
   "outputs": [],
   "source": [
    "def createGraph(streets, intercepts, nodes):\n",
    "    G = [[] for i in range(len(streets.keys()))]\n",
    "    def calculateDistance(p1, p2):\n",
    "        return sum((map(lambda c1, c2: abs(c1 - c2), intercept, point)))\n",
    "    for intercept in streets.keys():\n",
    "        for street in streets[intercept]:\n",
    "            distance = []\n",
    "            for point in intercepts[street]:\n",
    "                if point != intercept:\n",
    "                    # print(calculateDistance(intercept, point))\n",
    "                    distance.append([nodes[point], calculateDistance(intercept, point)])\n",
    "            # print(distance)\n",
    "            distance.sort(key=lambda ls: ls[1])\n",
    "            if len(distance) > 1:\n",
    "                neighbours = distance[0:2]\n",
    "                if len(neighbours) > 1 and calculateDistance(neighbours[0][1], neighbours[1][1]) > neighbours[0][1]:\n",
    "                    neighbours.pop()\n",
    "                G[nodes[intercept]].extend([neighbours[x][0] for x in range(len(neighbours))])\n",
    "            elif len(distance) > 0:\n",
    "                G[nodes[intercept]].append(distance[0][0])\n",
    "    \n",
    "    return G"
   ]
  },
  {
   "cell_type": "code",
   "execution_count": 10,
   "id": "4422c125",
   "metadata": {},
   "outputs": [
    {
     "data": {
      "text/plain": [
       "[[5321, 2454],\n",
       " [1008, 1357],\n",
       " [3200, 4320],\n",
       " [5578, 2101],\n",
       " [1085, 1828, 7151, 1828],\n",
       " [7551],\n",
       " [4830, 3731],\n",
       " [3659, 2939],\n",
       " [1685, 7096, 8285],\n",
       " [3790, 847]]"
      ]
     },
     "execution_count": 10,
     "metadata": {},
     "output_type": "execute_result"
    }
   ],
   "source": [
    "G_al = createGraph(streets, intercepts, nodes)\n",
    "G_al[0:10]"
   ]
  },
  {
   "cell_type": "code",
   "execution_count": 12,
   "id": "2e9e39f4",
   "metadata": {},
   "outputs": [],
   "source": [
    "def commonStreet(ls1, ls2):\n",
    "    for street in ls1:\n",
    "        if street in ls2:\n",
    "            return True\n",
    "    return False\n",
    "assert commonStreet(streets[nodeToIntercept[G_al[0][0]]], streets[nodeToIntercept[0]]) and commonStreet(streets[nodeToIntercept[G_al[0][1]]], streets[nodeToIntercept[0]])"
   ]
  },
  {
   "cell_type": "code",
   "execution_count": 15,
   "id": "f29c9c1e",
   "metadata": {},
   "outputs": [],
   "source": [
    "f = open(\"graph.al\", \"w\")\n",
    "c = 0\n",
    "for line in G_al:\n",
    "    f.write(str(c)+' ')\n",
    "    if len(line) > 0:\n",
    "        for x in line:\n",
    "            f.write(str(x)+' ')\n",
    "    else:\n",
    "        f.write('-')\n",
    "    f.write('\\n')\n",
    "    c += 1"
   ]
  }
 ],
 "metadata": {
  "kernelspec": {
   "display_name": "Python 3 (ipykernel)",
   "language": "python",
   "name": "python3"
  },
  "language_info": {
   "codemirror_mode": {
    "name": "ipython",
    "version": 3
   },
   "file_extension": ".py",
   "mimetype": "text/x-python",
   "name": "python",
   "nbconvert_exporter": "python",
   "pygments_lexer": "ipython3",
   "version": "3.9.7"
  }
 },
 "nbformat": 4,
 "nbformat_minor": 5
}
